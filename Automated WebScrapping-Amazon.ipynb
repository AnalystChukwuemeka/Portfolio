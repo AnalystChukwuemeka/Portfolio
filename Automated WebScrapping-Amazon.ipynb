{
 "cells": [
  {
   "cell_type": "markdown",
   "id": "165e028f",
   "metadata": {},
   "source": [
    "<img src =\"amazon.png\" width = \"200\" height = \"30\" align=\"center\" margin='20'></br><p>\n",
    "<h2 style=\"color:#808080\" align=\"center\">Automated Webscapping Using Python - Amazon.co.uk</h2>"
   ]
  },
  {
   "cell_type": "code",
   "execution_count": 1,
   "id": "16c3959b",
   "metadata": {},
   "outputs": [],
   "source": [
    "# Import required libraries\n",
    "import pandas as pd\n",
    "from bs4 import BeautifulSoup\n",
    "import csv\n",
    "import datetime\n",
    "import time\n",
    "import requests\n",
    "import smtplib #for sending emails from the code"
   ]
  },
  {
   "cell_type": "code",
   "execution_count": 42,
   "id": "f0ab928f",
   "metadata": {},
   "outputs": [],
   "source": [
    "# Connect and pull data from ebay.co.uk\n",
    "url = 'https://www.amazon.co.uk/HP-15s-fq2016sa-pixels-Intel%C2%AE-Windows/dp/B08Q3XHP3M/ref=sxin_15_ac_d_rm?ac_md=0-0-bGFwdG9wIHBj-ac_d_rm_rm_rm&content-id=amzn1.sym.0b27cf19-b0d0-4bf1-9dce-b0a41b6c66ae%3Aamzn1.sym.0b27cf19-b0d0-4bf1-9dce-b0a41b6c66ae&cv_ct_cx=laptop+pc&keywords=laptop+pc&pd_rd_i=B08Q3XHP3M&pd_rd_r=a9b92b64-7230-4065-b4f0-6d4fc8b07ab8&pd_rd_w=YBfJz&pd_rd_wg=Aoi5r&pf_rd_p=0b27cf19-b0d0-4bf1-9dce-b0a41b6c66ae&pf_rd_r=BJ158XNM26FFGTNW4TG7&qid=1677785393&sr=1-1-e2b79f78-a3a0-4cac-b70d-2a5e4ae8e724'\n",
    "headers = {\"User-Agent\": \"Mozilla/5.0 (Windows NT 10.0; Win64; x64) AppleWebKit/537.36 (KHTML, like Gecko) Chrome/110.0.0.0 Safari/537.36\", \n",
    "    \"X-Amzn-Trace-Id\": \"Root=1-63fa83da-7f16ccb23727f65e47a02c24\"}\n",
    "\n",
    "data = requests.get(url, headers = headers)\n",
    "\n",
    "soup = BeautifulSoup(data.content, \"html.parser\")\n",
    "soup = BeautifulSoup(soup.prettify(), \"html.parser\")\n",
    "\n",
    "productTitle = soup.find(id='productTitle').get_text()\n",
    "productPrice = soup.find(id='corePrice_feature_div').get_text()\n",
    "productPrice = soup.select('span',attr={'class':'a-offscreen'})\n",
    "productPrice = soup.find('span', class_=\"a-offscreen\").get_text()\n",
    "quantityLeft = soup.find(id='availability').get_text()\n",
    "productTitle = productTitle.strip()\n",
    "productPrice = productPrice.strip()\n",
    "quantityLeft = quantityLeft.strip()"
   ]
  },
  {
   "cell_type": "code",
   "execution_count": 58,
   "id": "062d5980",
   "metadata": {},
   "outputs": [
    {
     "name": "stdout",
     "output_type": "stream",
     "text": [
      "2023-03-02 21:57:25.673097\n"
     ]
    }
   ],
   "source": [
    "#Add time stamp to data\n",
    "\n",
    "dateTime = print(datetime.datetime.now())\n",
    "dateTime"
   ]
  },
  {
   "cell_type": "code",
   "execution_count": 45,
   "id": "dd05fe7a",
   "metadata": {},
   "outputs": [],
   "source": [
    "# Write Scrapped data to a csv file\n",
    "\n",
    "columnHeader = ['productTitle','productPrice','quantityLeft','dateTime']\n",
    "data = [productTitle,productPrice,quantityLeft,dateTime]\n",
    "\n",
    "with open('laptopdatafromamazon.csv', 'w', newline='', encoding='UTF8') as f:\n",
    "    writer = csv.writer(f)\n",
    "    writer.writerow(columnHeader)\n",
    "    writer.writerow(data)"
   ]
  },
  {
   "cell_type": "code",
   "execution_count": 60,
   "id": "8467676e",
   "metadata": {},
   "outputs": [],
   "source": [
    "# Append new data\n",
    "\n",
    "with open('laptopdatafromamazon.csv', 'a+', newline='', encoding='UTF8') as f:\n",
    "    writer = csv.writer(f)\n",
    "    writer.writerow(data)"
   ]
  },
  {
   "cell_type": "code",
   "execution_count": 61,
   "id": "71890243",
   "metadata": {},
   "outputs": [
    {
     "data": {
      "text/html": [
       "<div>\n",
       "<style scoped>\n",
       "    .dataframe tbody tr th:only-of-type {\n",
       "        vertical-align: middle;\n",
       "    }\n",
       "\n",
       "    .dataframe tbody tr th {\n",
       "        vertical-align: top;\n",
       "    }\n",
       "\n",
       "    .dataframe thead th {\n",
       "        text-align: right;\n",
       "    }\n",
       "</style>\n",
       "<table border=\"1\" class=\"dataframe\">\n",
       "  <thead>\n",
       "    <tr style=\"text-align: right;\">\n",
       "      <th></th>\n",
       "      <th>productTitle</th>\n",
       "      <th>productPrice</th>\n",
       "      <th>quantityLeft</th>\n",
       "      <th>dateTime</th>\n",
       "    </tr>\n",
       "  </thead>\n",
       "  <tbody>\n",
       "    <tr>\n",
       "      <th>0</th>\n",
       "      <td>HP 15.6\" Full HD Laptop PC 15s-fq2016sa, Intel...</td>\n",
       "      <td>£549.99</td>\n",
       "      <td>Only 2 left in stock</td>\n",
       "      <td>41:22.4</td>\n",
       "    </tr>\n",
       "    <tr>\n",
       "      <th>1</th>\n",
       "      <td>HP 15.6\" Full HD Laptop PC 15s-fq2016sa, Intel...</td>\n",
       "      <td>£549.99</td>\n",
       "      <td>Only 2 left in stock</td>\n",
       "      <td>2023-03-02 21:41:22.446447</td>\n",
       "    </tr>\n",
       "  </tbody>\n",
       "</table>\n",
       "</div>"
      ],
      "text/plain": [
       "                                        productTitle productPrice  \\\n",
       "0  HP 15.6\" Full HD Laptop PC 15s-fq2016sa, Intel...      £549.99   \n",
       "1  HP 15.6\" Full HD Laptop PC 15s-fq2016sa, Intel...      £549.99   \n",
       "\n",
       "           quantityLeft                    dateTime  \n",
       "0  Only 2 left in stock                     41:22.4  \n",
       "1  Only 2 left in stock  2023-03-02 21:41:22.446447  "
      ]
     },
     "execution_count": 61,
     "metadata": {},
     "output_type": "execute_result"
    }
   ],
   "source": [
    "#convert file to datafram\n",
    "\n",
    "ldata = pd.read_csv(r'C:\\Users\\user\\Desktop\\Analytics\\Projects\\Webscrapping\\laptopdatafromamazon.csv')\n",
    "ldata"
   ]
  },
  {
   "cell_type": "code",
   "execution_count": 62,
   "id": "df0ce66f",
   "metadata": {},
   "outputs": [],
   "source": [
    "#Create Funtion to carry scraping function\n",
    "\n",
    "def getProductDetails():\n",
    "    url = 'https://www.amazon.co.uk/HP-15s-fq2016sa-pixels-Intel%C2%AE-Windows/dp/B08Q3XHP3M/ref=sxin_15_ac_d_rm?ac_md=0-0-bGFwdG9wIHBj-ac_d_rm_rm_rm&content-id=amzn1.sym.0b27cf19-b0d0-4bf1-9dce-b0a41b6c66ae%3Aamzn1.sym.0b27cf19-b0d0-4bf1-9dce-b0a41b6c66ae&cv_ct_cx=laptop+pc&keywords=laptop+pc&pd_rd_i=B08Q3XHP3M&pd_rd_r=a9b92b64-7230-4065-b4f0-6d4fc8b07ab8&pd_rd_w=YBfJz&pd_rd_wg=Aoi5r&pf_rd_p=0b27cf19-b0d0-4bf1-9dce-b0a41b6c66ae&pf_rd_r=BJ158XNM26FFGTNW4TG7&qid=1677785393&sr=1-1-e2b79f78-a3a0-4cac-b70d-2a5e4ae8e724'\n",
    "    headers = {\"User-Agent\": \"Mozilla/5.0 (Windows NT 10.0; Win64; x64) AppleWebKit/537.36 (KHTML, like Gecko) Chrome/110.0.0.0 Safari/537.36\", \n",
    "    \"X-Amzn-Trace-Id\": \"Root=1-63fa83da-7f16ccb23727f65e47a02c24\"}\n",
    "\n",
    "    data = requests.get(url, headers = headers)\n",
    "\n",
    "    soup = BeautifulSoup(data.content, \"html.parser\")\n",
    "    soup = BeautifulSoup(soup.prettify(), \"html.parser\")\n",
    "\n",
    "    productTitle = soup.find(id='productTitle').get_text()\n",
    "    productPrice = soup.find(id='corePrice_feature_div').get_text()\n",
    "    productPrice = soup.select('span',attr={'class':'a-offscreen'})\n",
    "    productPrice = soup.find('span', class_=\"a-offscreen\").get_text()\n",
    "    quantityLeft = soup.find(id='availability').get_text()\n",
    "    productTitle = productTitle.strip()\n",
    "    productPrice = productPrice.strip()\n",
    "    quantityLeft = quantityLeft.strip()\n",
    "    \n",
    "    import datetime\n",
    "    \n",
    "    dateTime = print(datetime.datetime.now())\n",
    "    \n",
    "    # Write Scrapped data to a csv file\n",
    "    \n",
    "    import csv\n",
    "\n",
    "    columnHeader = ['productTitle','productPrice','quantityLeft','dateTime']\n",
    "    data = [productTitle,productPrice,quantityLeft,dateTime]\n",
    "        \n",
    "    # Append new data\n",
    "\n",
    "    with open('laptopdatafromamazon.csv', 'a+', newline='', encoding='UTF8') as f:\n",
    "        writer = csv.writer(f)\n",
    "        writer.writerow(data)"
   ]
  },
  {
   "cell_type": "code",
   "execution_count": null,
   "id": "7479c45c",
   "metadata": {},
   "outputs": [],
   "source": [
    "\n",
    "## while(True):\n",
    "  #  getProductDetails()\n",
    "  #  "
   ]
  },
  {
   "cell_type": "code",
   "execution_count": null,
   "id": "36d922d0",
   "metadata": {},
   "outputs": [],
   "source": [
    "ldata = pd.read_csv(r'C:\\Users\\user\\Desktop\\Analytics\\Projects\\Webscrapping\\laptopdatafromamazon.csv')\n",
    "ldata"
   ]
  },
  {
   "cell_type": "code",
   "execution_count": null,
   "id": "09105f48",
   "metadata": {},
   "outputs": [],
   "source": [
    "# Send data as an email\n",
    "\n",
    "\n",
    "def send_mail():\n",
    "        \n",
    "     server = smtplib.SMTP_SSL('smtp.gmail.com',465)\n",
    "    #server.starttls()\n",
    "    server.ehlo()\n",
    "    server.login('oyemezie.chukwuemeka@gmail.com','xxxxxxxxxxxxxx')\n",
    "    \n",
    "    subject = \"Laptop Detail: Price has dropped below 400\"\n",
    "    body = \"Hey, review product detail for price options on Amazon\"\n",
    "   \n",
    "    msg = f\"Subject: {subject}\\n\\n{body}\"\n",
    "    \n",
    "    server.sendmail(\n",
    "    'oyemezie.chukwuemeka@gmail.com',\n",
    "    msg\n",
    "    )\n",
    "  "
   ]
  },
  {
   "cell_type": "code",
   "execution_count": null,
   "id": "44a1faab",
   "metadata": {},
   "outputs": [],
   "source": [
    "# Automate to check for changes in product details(e.g PRICE) every 12hr \n",
    "\n",
    "while(True):\n",
    "    getProductDetails()\n",
    "    time.sleep(43200)\n",
    "\n",
    "    import pandas as pd\n",
    "    ldata = pd.read_csv(r'C:\\Users\\user\\Desktop\\Analytics\\Projects\\Webscrapping\\laptopdatafromamazon.csv')\n",
    "    ldata\n",
    "    if ldata['productPrice'] < 400:\n",
    "        send_mail()\n",
    "    \n",
    "        "
   ]
  },
  {
   "cell_type": "code",
   "execution_count": null,
   "id": "5147115f",
   "metadata": {},
   "outputs": [],
   "source": []
  }
 ],
 "metadata": {
  "kernelspec": {
   "display_name": "Python 3 (ipykernel)",
   "language": "python",
   "name": "python3"
  },
  "language_info": {
   "codemirror_mode": {
    "name": "ipython",
    "version": 3
   },
   "file_extension": ".py",
   "mimetype": "text/x-python",
   "name": "python",
   "nbconvert_exporter": "python",
   "pygments_lexer": "ipython3",
   "version": "3.9.7"
  }
 },
 "nbformat": 4,
 "nbformat_minor": 5
}
